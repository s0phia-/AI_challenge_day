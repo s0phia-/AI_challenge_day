{
  "cells": [
    {
      "cell_type": "markdown",
      "metadata": {
        "id": "view-in-github",
        "colab_type": "text"
      },
      "source": [
        "<a href=\"https://colab.research.google.com/github/s0phia-/AI_challenge_day/blob/main/nondeterminism_in_nn.ipynb\" target=\"_parent\"><img src=\"https://colab.research.google.com/assets/colab-badge.svg\" alt=\"Open In Colab\"/></a>"
      ]
    },
    {
      "cell_type": "markdown",
      "metadata": {
        "id": "1rxirr3nPj46"
      },
      "source": [
        "# Implications of Non-Determinism in Neural Network Optimisation\n",
        "\n",
        "Neural networks are powerful but unpredictable, with small changes in factors like parameter initialisation or data pre-processing leading to significant variations in performance. A recent paper shows that many sources of non-determinism can produce similar levels of variability, even from seemingly trivial changes like altering a single neuron’s initialisation. These surprising findings challenge assumptions about neural network stability and raise critical questions about reproducibility and explainability. For this year’s AI Challenge Day, our table will reproduce the most important findings in the paper, to validate their claims and explore their broader implications.\n",
        "\n",
        "Participants will work in small groups or individually to replicate the paper’s experiments, breaking the work into subtasks managed using agile project management and a shared scrum board. Tasks will include reproducing key results, investigating additional sources of non-determinism, and discussing the impact on AI research. We ask that participants are familiar with Python, PyTorch and bring a laptop, and we will contact them beforehand with setup instructions. The paper, which participants are encouraged to review before the event, can be found here: https://proceedings.mlr.press/v139/summers21a/summers21a.pdf. By the end of the session, we aim to verify the findings and generate new insights into managing non-determinism in training AI systems."
      ]
    },
    {
      "cell_type": "markdown",
      "metadata": {
        "id": "9rZ9n4WuPj47"
      },
      "source": [
        "## The Plan for Today\n",
        "\n",
        "### Objective\n",
        "Today, we aim to replicate the results of the experiment described in Section 3.2 of the paper, which investigates the effects of non-determinism and instability on training a ResNet model for classifying the CIFAR-10 dataset. Specifically, our goal is to reproduce **Table 1** from the paper.\n",
        "\n",
        "### Experiment Overview\n",
        "The authors identify several sources of non-determinism in neural network optimisation:\n",
        "1. **Parameter Initialisation**\n",
        "2. **Data Shuffling**\n",
        "3. **Data Augmentation**\n",
        "4. **Low-level cuDNN Operations**\n",
        "\n",
        "Each of these sources is detailed in Section 3 of the paper. Relevant explanations are also provided in their respective sections within this notebook.\n",
        "\n",
        "#### Experimental Setup\n",
        "The experiment involves:\n",
        "- Fixing certain sources of non-determinism while varying others (using seeds).\n",
        "- Training the ResNet model over 100 runs.\n",
        "- Measuring how the varied sources of non-determinism influence training outcomes.\n",
        "\n",
        "The detailed methodology is outlined in Section 3.1 of the paper and is summarised in the **\"Protocol for Testing Effects of Non-determinism\"** section of this notebook.\n",
        "\n",
        "### Evaluation Metrics\n",
        "The authors use two metrics to evaluate instability:\n",
        "1. **Performance Variability**: Variability in model accuracy (e.g. cross-entropy or classification accuracy) along with the standard deviation of these metrics across 100 runs.\n",
        "2. **Representation Diversity**: The average disagreement between pairs of models. Higher disagreement corresponds to greater diversity and variability.\n",
        "\n",
        "### Provided Resources\n",
        "To streamline the process, we have provided base code with the following flow:\n",
        "1. **Package Setup**: Install and configure necessary packages in your virtual environment.\n",
        "2. **Data Loading**: Load and preprocess the CIFAR-10 dataset.\n",
        "3. **Model Definition**: Define the ResNet architecture.\n",
        "4. **Model Training**: Train the ResNet model.\n",
        "5. **Output Visualisation**: Visualise and analyse the model outputs.\n",
        "\n",
        "### Tasks for Participants\n",
        "\n",
        "Your task is to complete the missing code by implementing a series of functions, working in pairs or individually. Each pair/individual will be responsible for implementing a specific function, following agile project management principles.\n",
        "\n",
        "We will use a shared Git repository to collaborate and ensure consistency across implementations. Participants will:\n",
        "\n",
        "1. **Plan and Assign Tasks**: Use agile techniques to break down the work into manageable subtasks (e.g. functions), assigning them to individuals or pairs.\n",
        "2. **Develop and Modify Code**: Each function includes a skeleton definition that can be customized as needed.\n",
        "3. **Coordinate and Collaborate**: Communicate with others at your table or via Git to synchronize development efforts and resolve dependencies.\n",
        "\n",
        "Collaboration and clear communication are key to ensuring that all components integrate seamlessly by the end of the session.\n",
        "\n",
        "#### Core Functions\n",
        "1. **Fixing/Varying Sources of Non-determinism:**\n",
        "   - `param_init`: Initialises the model with a given seed.\n",
        "   - `data_shuffle`: Shuffles the data using a given seed.\n",
        "   - `data_augmentation`: Augments the data using a given seed.\n",
        "   - `cuDNN`: Seeds the cuDNN backend.\n",
        "\n",
        "2. **Experiment Flow:**\n",
        "   - `nondeterminism_experiment`: Orchestrates the experiment by fixing some sources of non-determinism and varying others. Trains 100 models using 100 different seeds.\n",
        "\n",
        "3. **Evaluation Functions:**\n",
        "   - `performance_variance`: Computes the average accuracy and cross-entropy across the trained models.\n",
        "   - `pairwise_disagreement`: Measures pairwise disagreement between models, assessing how their predictions vary for each input.\n",
        "\n",
        "### Final Steps\n",
        "Using the functions above, the notebook will:\n",
        "1. Reproduce the various combinations of determinism and non-determinism as detailed in **Table 3**.\n",
        "2. Generate and analyse the reproduced table to validate the findings.\n",
        "\n",
        "### Optional Additional Work\n",
        "If time permits, explore the additional tasks provided at the end of the notebook for deeper insights and further experimentation.\n",
        "\n",
        "### Important Notes:\n",
        "- **Google Colab Usage**: Everyone is advised to use Google Colab for running this experiment to ensure an efficient and compatible environment.\n",
        "- **GPU Enablement**: Be sure to enable GPU support in Google Colab by selecting **Runtime > Change runtime type > Hardware accelerator > GPU** for faster model training and experimentation."
      ]
    },
    {
      "cell_type": "markdown",
      "metadata": {
        "id": "b6ZfVWe-Pj48"
      },
      "source": [
        "## Setup and Preparation"
      ]
    },
    {
      "cell_type": "code",
      "execution_count": 1,
      "metadata": {
        "id": "CpZtxI--Pj48",
        "outputId": "68c90359-8296-4d1b-b8bd-47e4125bc20a",
        "colab": {
          "base_uri": "https://localhost:8080/"
        }
      },
      "outputs": [
        {
          "output_type": "stream",
          "name": "stdout",
          "text": [
            "Requirement already satisfied: matplotlib in /usr/local/lib/python3.11/dist-packages (3.10.0)\n",
            "Requirement already satisfied: contourpy>=1.0.1 in /usr/local/lib/python3.11/dist-packages (from matplotlib) (1.3.1)\n",
            "Requirement already satisfied: cycler>=0.10 in /usr/local/lib/python3.11/dist-packages (from matplotlib) (0.12.1)\n",
            "Requirement already satisfied: fonttools>=4.22.0 in /usr/local/lib/python3.11/dist-packages (from matplotlib) (4.55.3)\n",
            "Requirement already satisfied: kiwisolver>=1.3.1 in /usr/local/lib/python3.11/dist-packages (from matplotlib) (1.4.8)\n",
            "Requirement already satisfied: numpy>=1.23 in /usr/local/lib/python3.11/dist-packages (from matplotlib) (1.26.4)\n",
            "Requirement already satisfied: packaging>=20.0 in /usr/local/lib/python3.11/dist-packages (from matplotlib) (24.2)\n",
            "Requirement already satisfied: pillow>=8 in /usr/local/lib/python3.11/dist-packages (from matplotlib) (11.1.0)\n",
            "Requirement already satisfied: pyparsing>=2.3.1 in /usr/local/lib/python3.11/dist-packages (from matplotlib) (3.2.1)\n",
            "Requirement already satisfied: python-dateutil>=2.7 in /usr/local/lib/python3.11/dist-packages (from matplotlib) (2.8.2)\n",
            "Requirement already satisfied: six>=1.5 in /usr/local/lib/python3.11/dist-packages (from python-dateutil>=2.7->matplotlib) (1.17.0)\n",
            "Requirement already satisfied: numpy in /usr/local/lib/python3.11/dist-packages (1.26.4)\n",
            "Requirement already satisfied: tabulate in /usr/local/lib/python3.11/dist-packages (0.9.0)\n"
          ]
        }
      ],
      "source": [
        "### Environment Setup ###\n",
        "\n",
        "%pip install -q torch torchvision\n",
        "%pip install matplotlib\n",
        "%pip install numpy\n",
        "%pip install tabulate"
      ]
    },
    {
      "cell_type": "code",
      "execution_count": 2,
      "metadata": {
        "colab": {
          "base_uri": "https://localhost:8080/"
        },
        "id": "k6iv79F_F3iq",
        "outputId": "e8f8d0b7-d606-4dfd-cc49-90aa6cb614d4"
      },
      "outputs": [
        {
          "output_type": "stream",
          "name": "stdout",
          "text": [
            "Downloading https://www.cs.toronto.edu/~kriz/cifar-10-python.tar.gz to ./data/cifar-10-python.tar.gz\n"
          ]
        },
        {
          "output_type": "stream",
          "name": "stderr",
          "text": [
            "100%|██████████| 170M/170M [00:05<00:00, 30.7MB/s]\n"
          ]
        },
        {
          "output_type": "stream",
          "name": "stdout",
          "text": [
            "Extracting ./data/cifar-10-python.tar.gz to ./data\n",
            "Files already downloaded and verified\n"
          ]
        }
      ],
      "source": [
        "#### Load Data ###\n",
        "\n",
        "import torch\n",
        "import torchvision\n",
        "import torchvision.transforms as transforms\n",
        "\n",
        "\n",
        "transform = transforms.Compose(\n",
        "    [transforms.ToTensor(),\n",
        "     transforms.Normalize((0.5, 0.5, 0.5), (0.5, 0.5, 0.5))])\n",
        "\n",
        "batch_size = 4\n",
        "\n",
        "trainset = torchvision.datasets.CIFAR10(root='./data', train=True,\n",
        "                                        download=True, transform=transform)\n",
        "trainloader = torch.utils.data.DataLoader(trainset, batch_size=batch_size,\n",
        "                                          shuffle=True, num_workers=2)\n",
        "\n",
        "testset = torchvision.datasets.CIFAR10(root='./data', train=False,\n",
        "                                       download=True, transform=transform)\n",
        "testloader = torch.utils.data.DataLoader(testset, batch_size=batch_size,\n",
        "                                         shuffle=False, num_workers=2)\n",
        "\n",
        "classes = ('plane', 'car', 'bird', 'cat', 'deer', 'dog', 'frog', 'horse',\n",
        "           'ship', 'truck')"
      ]
    },
    {
      "cell_type": "code",
      "execution_count": 3,
      "metadata": {
        "id": "Dwb6ADcjYqvM",
        "outputId": "f1bba488-e2dc-4c01-968c-3337aa9144e3",
        "colab": {
          "base_uri": "https://localhost:8080/"
        }
      },
      "outputs": [
        {
          "output_type": "stream",
          "name": "stdout",
          "text": [
            "Using cuda device\n"
          ]
        }
      ],
      "source": [
        "### Define ResNet model ###\n",
        "\n",
        "import torch.nn as nn\n",
        "import torch\n",
        "\n",
        "device = (\n",
        "    \"cuda\"\n",
        "    if torch.cuda.is_available()\n",
        "    else \"mps\"\n",
        "    if torch.backends.mps.is_available()\n",
        "    else \"cpu\"\n",
        ")\n",
        "print(f\"Using {device} device\")\n",
        "\n",
        "\n",
        "def conv3x3(in_channels, out_channels, stride=1):\n",
        "  \"\"\"3x3 convolution with padding\"\"\"\n",
        "  return nn.Conv2d(in_channels, out_channels, kernel_size=3, stride=stride,\n",
        "      padding=1, bias=False)\n",
        "\n",
        "\n",
        "class BasicBlock(nn.Module):\n",
        "  expansion = 1\n",
        "\n",
        "  def __init__(self, inplanes, planes, stride=1, downsample=None):\n",
        "    super(BasicBlock, self).__init__()\n",
        "    # Both self.conv1 and self.downsample layers downsample the input when\n",
        "    # stride != 1\n",
        "    self.conv1 = conv3x3(inplanes, planes, stride)\n",
        "    self.bn1 = nn.BatchNorm2d(planes)\n",
        "    self.relu = nn.ReLU(inplace=True)\n",
        "    self.conv2 = conv3x3(planes, planes)\n",
        "    self.bn2 = nn.BatchNorm2d(planes)\n",
        "    self.downsample = downsample\n",
        "\n",
        "  def forward(self, x):\n",
        "    identity = x\n",
        "\n",
        "    out = self.conv1(x)\n",
        "    out = self.bn1(out)\n",
        "    out = self.relu(out)\n",
        "\n",
        "    out = self.conv2(out)\n",
        "    out = self.bn2(out)\n",
        "\n",
        "    if self.downsample is not None:\n",
        "      identity = self.downsample(x)\n",
        "      identity = torch.cat((identity, torch.zeros_like(identity)), 1)\n",
        "\n",
        "    out += identity\n",
        "    out = self.relu(out)\n",
        "\n",
        "    return out\n",
        "\n",
        "\n",
        "class ResNet(nn.Module):\n",
        "\n",
        "  def __init__(self, block, layers, channels_per_block=None, num_classes=10):\n",
        "    super(ResNet, self).__init__()\n",
        "\n",
        "    if channels_per_block is None:\n",
        "      channels_per_block = [16, 32, 64]\n",
        "    if len(layers) != len(channels_per_block):\n",
        "      raise ValueError('number of layers and channels per block must be equal')\n",
        "    self.num_layers = sum(layers)\n",
        "    self.inplanes = channels_per_block[0]\n",
        "    self.conv1 = conv3x3(3, channels_per_block[0])\n",
        "    self.bn1 = nn.BatchNorm2d(channels_per_block[0])\n",
        "    self.relu = nn.ReLU(inplace=True)\n",
        "    self.layers = []\n",
        "    for i, (num_channels, num_blocks) in enumerate(zip(channels_per_block,\n",
        "                                                       layers)):\n",
        "      self.layers.append(self._make_layer(block, num_channels, num_blocks,\n",
        "                                          stride=(1 if i == 0 else 2)))\n",
        "      self.add_module('layer%d' % i, self.layers[-1])\n",
        "\n",
        "    self.avgpool = nn.AdaptiveAvgPool2d((1, 1))\n",
        "    self.fc = nn.Linear(channels_per_block[-1], num_classes)\n",
        "\n",
        "    for _, m in sorted(self.named_modules()):\n",
        "      if isinstance(m, nn.Conv2d):\n",
        "        nn.init.kaiming_normal_(m.weight, mode='fan_out', nonlinearity='relu')\n",
        "      elif isinstance(m, nn.BatchNorm2d):\n",
        "        nn.init.constant_(m.weight, 1)\n",
        "        nn.init.constant_(m.bias, 0)\n",
        "\n",
        "    # Zero-initialize the last BN in each residual branch so that the residual\n",
        "    # branch starts with zeros, and each residual block behaves like an\n",
        "    # identity. This improves the model by 0.2~0.3% according to\n",
        "    # https://arxiv.org/abs/1706.02677\n",
        "    for _, m in sorted(self.named_modules()):\n",
        "      if isinstance(m, BasicBlock):\n",
        "        nn.init.constant_(m.bn2.weight, 0)\n",
        "\n",
        "  def _make_layer(self, block, planes, blocks, stride=1):\n",
        "    downsample = None\n",
        "    if stride != 1:\n",
        "      downsample = nn.Sequential(\n",
        "        nn.AvgPool2d(1, stride=stride),\n",
        "        nn.BatchNorm2d(self.inplanes),\n",
        "      )\n",
        "\n",
        "    layers = []\n",
        "    layers.append(block(self.inplanes, planes, stride, downsample))\n",
        "    self.inplanes = planes\n",
        "    for _ in range(1, blocks):\n",
        "      layers.append(block(planes, planes))\n",
        "\n",
        "    return nn.Sequential(*layers)\n",
        "\n",
        "  def forward(self, x):\n",
        "    x = self.conv1(x)\n",
        "    x = self.bn1(x)\n",
        "    x = self.relu(x)\n",
        "\n",
        "    for layer in self.layers:\n",
        "      x = layer(x)\n",
        "\n",
        "    x = self.avgpool(x)\n",
        "    x = x.view(x.size(0), -1)\n",
        "    x = self.fc(x)\n",
        "\n",
        "    return x"
      ]
    },
    {
      "cell_type": "code",
      "execution_count": 9,
      "metadata": {
        "id": "suqOKncJPj4-"
      },
      "outputs": [],
      "source": [
        "### Helper functions ###\n",
        "\n",
        "import matplotlib.pyplot as plt\n",
        "import numpy as np\n",
        "\n",
        "def train(model, epochs=1000):\n",
        "    \"\"\"\n",
        "    Training loop using fixed hyper-parameters. Returns the trained model.\n",
        "    \"\"\"\n",
        "\n",
        "    optimizer = torch.optim.SGD(model.parameters(), lr=0.001, momentum=0.9)\n",
        "\n",
        "    for epoch in range(epochs):  # loop over the dataset multiple times\n",
        "\n",
        "        running_loss = 0.0\n",
        "        for i, data in enumerate(trainloader, 0):\n",
        "            # get the inputs; data is a list of [inputs, labels]\n",
        "            inputs, labels = data[0].to(device), data[1].to(device)\n",
        "\n",
        "            # zero the parameter gradients\n",
        "            optimizer.zero_grad()\n",
        "\n",
        "            # forward + backward + optimize\n",
        "            outputs = model(inputs)\n",
        "            loss = nn.CrossEntropyLoss()(outputs, labels)\n",
        "            loss.backward()\n",
        "            optimizer.step()\n",
        "\n",
        "            # print statistics\n",
        "            running_loss += loss.item()\n",
        "            if i % 2000 == 1999:    # print every 2000 mini-batches\n",
        "                print(f'[{epoch + 1}, {i + 1:5d}] loss: {running_loss / 2000:.3f}')\n",
        "                running_loss = 0.0\n",
        "\n",
        "    print('Finished Training')\n",
        "\n",
        "    # PATH = './cifar_net.pth'\n",
        "    # torch.save(model.state_dict(), PATH)\n",
        "\n",
        "    return model\n",
        "\n",
        "# function to show an image\n",
        "def imshow(img):\n",
        "    img = img / 2 + 0.5     # unnormalize\n",
        "    npimg = img.numpy()\n",
        "    plt.imshow(np.transpose(npimg, (1, 2, 0)))\n",
        "    plt.show()\n",
        "\n",
        "def visualise_model(model, device, num_images=4):\n",
        "    \"\"\"\n",
        "    Visualizes the model's predictions on a few test images.\n",
        "    \"\"\"\n",
        "\n",
        "    # get test images\n",
        "    dataiter = iter(testloader)\n",
        "    images, labels = next(dataiter)\n",
        "\n",
        "    # print images\n",
        "    imshow(torchvision.utils.make_grid(images))\n",
        "\n",
        "    # show ground truth labels\n",
        "    print('GroundTruth: ', ' '.join(f'{classes[labels[j]]:5s}'\n",
        "                                    for j in range(num_images)))\n",
        "\n",
        "    # show predicted labels\n",
        "    outputs = model(images.to(device))\n",
        "    _, predicted = torch.max(outputs, 1)\n",
        "    print('Predicted: ', ' '.join(f'{classes[predicted[j]]:5s}'\n",
        "                                for j in range(num_images)))"
      ]
    },
    {
      "cell_type": "markdown",
      "metadata": {
        "id": "0kfkZYH-Pj4-"
      },
      "source": [
        "### Example initialisation, training and visualisation"
      ]
    },
    {
      "cell_type": "code",
      "execution_count": 10,
      "metadata": {
        "id": "5Fq_edXPPj4_",
        "outputId": "2ff496dc-154f-4b5a-f47f-ddc937e60d76",
        "colab": {
          "base_uri": "https://localhost:8080/",
          "height": 358
        }
      },
      "outputs": [
        {
          "output_type": "stream",
          "name": "stdout",
          "text": [
            "[1,  2000] loss: 2.213\n",
            "[1,  4000] loss: 2.104\n",
            "[1,  6000] loss: 2.042\n",
            "[1,  8000] loss: 1.984\n",
            "[1, 10000] loss: 1.915\n",
            "[1, 12000] loss: 1.859\n",
            "Finished Training\n"
          ]
        },
        {
          "output_type": "display_data",
          "data": {
            "text/plain": [
              "<Figure size 640x480 with 1 Axes>"
            ],
            "image/png": "[encoded data removed]"
          },
          "metadata": {}
        },
        {
          "output_type": "stream",
          "name": "stdout",
          "text": [
            "GroundTruth:  cat   ship  ship  plane\n",
            "Predicted:  frog  truck plane plane\n"
          ]
        }
      ],
      "source": [
        "model = ResNet(BasicBlock, [2, 2, 2], [16, 32, 64]).to(device)\n",
        "train(model, epochs=1)\n",
        "visualise_model(model, device)"
      ]
    },
    {
      "cell_type": "markdown",
      "metadata": {
        "id": "MgXhqu3CPj4_"
      },
      "source": [
        "## Non-Determinisism Functions"
      ]
    },
    {
      "cell_type": "markdown",
      "metadata": {
        "id": "02COln5gPj5A"
      },
      "source": [
        "### Parameter Initialisation\n",
        "\n",
        "*When training a model, parameters without preset values are initialized randomly according to a given distribution, e.g. a zero-mean Gaussian with variance determined by the number of input connections to the layer (Glorot & Bengio, 2010; He et al., 2015).*"
      ]
    },
    {
      "cell_type": "code",
      "execution_count": null,
      "metadata": {
        "id": "Z5bnGfToPj5A"
      },
      "outputs": [],
      "source": [
        "### todo: control random initialisation of parameters\n",
        "\n",
        "def param_init(seed: int) -> ResNet:\n",
        "    \"\"\"\n",
        "    Initialize model parameters with a fixed seed.\n",
        "\n",
        "    Args:\n",
        "        seed: int, seed for random number generator\n",
        "    \"\"\"\n",
        "\n",
        "    # model = ResNet(BasicBlock, [2, 2, 2], [16, 32, 64]).to(device)\n",
        "    ### optional: print model ###\n",
        "    # print(model)\n",
        "\n",
        "    return model"
      ]
    },
    {
      "cell_type": "markdown",
      "metadata": {
        "id": "_aq7n8zMPj5A"
      },
      "source": [
        "### Data Shuffling\n",
        "\n",
        "*In stochastic gradient descent, the gradient is approximated on a random subset of examples, commonly implemented by using small batches of data iteratively in a shuffled training dataset (Bottou, 2012). Shuffling may happen either once, before training, or in between each\n",
        "epoch of training, the variant we use in this work.*"
      ]
    },
    {
      "cell_type": "code",
      "execution_count": null,
      "metadata": {
        "id": "kqCPc9iTPj5A"
      },
      "outputs": [],
      "source": [
        "### todo: control randomness in data shuffling\n",
        "\n",
        "# Note:\n",
        "    # The current notebook structure assumes the data is only shuffled once at the beginning of the training loop.\n",
        "    # This is not the case in the original code, where the data is shuffled at the beginning of each epoch.\n",
        "\n",
        "def data_shuffle(train_loader: torch.utils.data.DataLoader, seed: int) -> torch.utils.data.DataLoader:\n",
        "    \"\"\"\n",
        "    Shuffles the data using the given seed.\n",
        "\n",
        "    Args:\n",
        "        train_loader: DataLoader object containing the training data to be shuffled.\n",
        "        seed: int, seed for random number generator\n",
        "\n",
        "    Returns:\n",
        "        The shuffled data.\n",
        "    \"\"\"\n",
        "\n",
        "    return train_loader"
      ]
    },
    {
      "cell_type": "markdown",
      "metadata": {
        "id": "4fZ6o4XQPj5A"
      },
      "source": [
        "### Data Augmentation\n",
        "\n",
        "*A common practice, data augmentation refers to randomly altering each training example to artificially expand the training dataset (Shorten & Khoshgoftaar, 2019). For example, randomly flipping images encourages invariance to left/right orientation.*"
      ]
    },
    {
      "cell_type": "code",
      "execution_count": null,
      "metadata": {
        "id": "n6KHmEIlPj5B"
      },
      "outputs": [],
      "source": [
        "### todo: control randomness in data augmentation\n",
        "\n",
        "def data_augmentation(train_loader: torch.utils.data.DataLoader, seed: int) -> torch.utils.data.DataLoader:\n",
        "    \"\"\"\n",
        "    Augments the data in the train_loader using random transformations controlled by seed.\n",
        "\n",
        "    Args:\n",
        "        train_loader: DataLoader object containing the training data to be augmented.\n",
        "        seed: int, seed for random number generator\n",
        "\n",
        "    Returns:\n",
        "        DataLoader object containing the augmented data\n",
        "    \"\"\"\n",
        "\n",
        "    return train_loader"
      ]
    },
    {
      "cell_type": "markdown",
      "metadata": {
        "id": "WYLfG6c4Pj5B"
      },
      "source": [
        "### Low-level Operations (cuDNN)\n",
        "\n",
        "*Often underlooked, many libraries that deep learning frameworks are built on, such as cuDNN (Chetlur et al., 2014), typically run nondeterministically in order to increase the speed of their operations. This nondeterminism is small when evaluated in the context of a single operation — in one test we performed it caused an output difference of 0.003%. In the case of cuDNN, the library we test, it is possible to disable nondeterministic behavior at a speed penalty on the order of ∼15%. However, unlike other nondeterminism sources, it is not possible to “seed” this; it is only possible to turn it on or off.*"
      ]
    },
    {
      "cell_type": "code",
      "execution_count": null,
      "metadata": {
        "id": "pW-le7cIPj5B"
      },
      "outputs": [],
      "source": [
        "### todo: seed cudnn\n",
        "\n",
        "def cuDNN(seed: int):\n",
        "    \"\"\"\n",
        "    Seeds the cuDNN backend for deterministic behaviour.\n",
        "\n",
        "    Args:\n",
        "        seed: int, seed for cuDNN backend.\n",
        "    \"\"\"\n",
        "\n",
        "    pass"
      ]
    },
    {
      "cell_type": "markdown",
      "metadata": {
        "id": "RE-2reNhPj5B"
      },
      "source": [
        "### Chaning the Initialisation of a Single Bit\n",
        "\n",
        "*First we deterministically train a simple ResNet-14 model on CIFAR-10, achieving a test cross-entropy of $0.3519$ and accuracy of $90.0\\%$. Then, we train another model in an identical fashion, with exactly equal settings for all sources of nondeterminism, but one extremely small change: we randomly pick a single weight in the first layer and change its value by the smallest possible amount in a 32-bit floating point representation, i.e. an addition or subtraction of a single bit in the least-significant digit. As an example, this could change a value from $-0.0066514308$ to $-0.0066514313$, a difference on the order of $5 \\cdot 10^{-10}$.*"
      ]
    },
    {
      "cell_type": "code",
      "execution_count": null,
      "metadata": {
        "id": "h4Y8NHnVPj5B"
      },
      "outputs": [],
      "source": [
        "### todo: change 1 bit in network\n",
        "\n",
        "def one_bit_param_init(model: ResNet, seed: int) -> ResNet:\n",
        "    \"\"\"\n",
        "    Change one bit in the weights of the model.\n",
        "\n",
        "    Args:\n",
        "        model: The model to modify.\n",
        "        seed: The seed used to choose bit and change.\n",
        "\n",
        "    Returns:\n",
        "        The modified model.\n",
        "    \"\"\"\n",
        "\n",
        "    return model"
      ]
    },
    {
      "cell_type": "markdown",
      "metadata": {
        "id": "j2V6nbzbPj5B"
      },
      "source": [
        "## Protocol for Testing Effects of Nondeterminism\n",
        "\n",
        "*Our protocol for testing the effects of sources of nondeterminism is based on properly controlling for each source.\n",
        "Formally, suppose there are $N$ sources of nondeterminism, with source $i$ controlled by seed $S_i$.\n",
        "To test the effect of source $i$, we keep all values $\\{S_j\\}_{j \\neq i}$ set to a constant, and vary $S_i$ with $R$ different values, where $R$ is the number of independent training runs performed. For sources of nondeterminism which cannot be effectively seeded, such as cuDNN, we indicate one of these values as the deterministic value, which it must be set to when varying the other sources of nondeterminism.*\n",
        "\n",
        "*For example, denote $S_1$ the seed for random parameter initialization, $S_2$ for training data shuffling, and $S_3$ for cuDNN, where $S_3 = 1$ is the deterministic value for cuDNN.\n",
        "To test the effect of random parameter initialization, with a budget of $R = 100$ training runs, we set $S_3$ to the deterministic value of $1$, $S_2$ to an arbitrary constant (typically 1 for simplicity), and test 100 different values of $S_1$. All together, this corresponds to training models for each of $(S_1, S_2, S_3) \\in \\{(i, 1, 1)\\}_{i=1}^{100}$.*\n",
        "\n",
        "*Note that it is also possible to test the effect of several sources of nondeterminism in tandem this way, e.g. by considering $(S_1, S_2, S_3) \\in \\{(i, i, 0)\\}_{i=1}^{R}$ to measure the joint effect of all three sources in this example.*"
      ]
    },
    {
      "cell_type": "code",
      "execution_count": null,
      "metadata": {
        "id": "4jYW0GryPj5B"
      },
      "outputs": [],
      "source": [
        "### Train and test loop (outline only) ###\n",
        "\n",
        "def nondeterminism_experiment(*args: str) -> tuple[float, ...]:\n",
        "    \"\"\"\n",
        "    100 training runs fixing some aspects of nondeterminism and varying others with seed.\n",
        "\n",
        "    Args:\n",
        "        *args: list of strings to dictate aspects of non-determinism to vary.\n",
        "\n",
        "    Returns:\n",
        "        accuracy_mean: mean accuracy of models\n",
        "        accuracy_std: standard deviation of accuracy of models\n",
        "        cross_entropy_mean: mean cross-entropy of models\n",
        "        cross_entropy_std: standard deviation of cross-entropy of models\n",
        "        pairwise_disagreement: average pairwise disagreement between models\n",
        "    \"\"\"\n",
        "\n",
        "    models = []\n",
        "\n",
        "    for seed in range(1, 101):\n",
        "\n",
        "        ### To Do ###\n",
        "        # Control for different aspects of non-determinism...\n",
        "        # Fix seed for some and vary seed for others...\n",
        "        # if 'param_init' in args: ...\n",
        "\n",
        "        # Train model\n",
        "        model = train(model)\n",
        "\n",
        "        # Save model for evaluation\n",
        "        models.append(model)\n",
        "\n",
        "    # Evaluate models\n",
        "    accuracy_mean, accuracy_std, cross_entropy_mean, cross_entropy_std = performance_variance(models)\n",
        "    pairwise_disagreement = pairwise_diagreement(models)\n",
        "\n",
        "    return accuracy_mean, accuracy_std, cross_entropy_mean, cross_entropy_std, pairwise_disagreement\n",
        "\n",
        "\n",
        ""
      ]
    },
    {
      "cell_type": "markdown",
      "metadata": {
        "id": "LhFYDUW-Pj5B"
      },
      "source": [
        "### Performance Variability\n",
        "\n",
        "*To measure variability of a particular evaluation metric (e.g. cross-entropy or accuracy for classification), we calculate the standard deviation (across all $R = 100$ models) of the metric.*"
      ]
    },
    {
      "cell_type": "code",
      "execution_count": null,
      "metadata": {
        "id": "9WnrX_jOPj5B"
      },
      "outputs": [],
      "source": [
        "def performance_variance(models: list[ResNet]) -> tuple[float, ...]:\n",
        "    \"\"\"\n",
        "    Args:\n",
        "        models: list of models to evaluate\n",
        "\n",
        "    Returns:\n",
        "        accuracy_mean: mean of accuracy of models\n",
        "        accuracy_std: standard deviation of accuracy of models\n",
        "        cross_entropy_mean: mean of cross entropy of models\n",
        "        cross_entropy_std: standard deviation of cross entropy of models\n",
        "    \"\"\"\n",
        "\n",
        "    # return accuracy_mean, accuracy_std, cross_entropy_mean, cross_entropy_std\n",
        "    pass"
      ]
    },
    {
      "cell_type": "markdown",
      "metadata": {
        "id": "y1HNrlQsPj5C"
      },
      "source": [
        "### Representation Diversity\n",
        "\n",
        "*We also examine differences in the representation of trained models, complementary to variability in test set performance ---\n",
        "this allows us to differentiate cases where two sources of nondeterminism have similar performance variability but actually produce models with disparate amounts of representational similarity.*\n",
        "\n",
        "*We consider the average disagreement between pairs of models, with higher disagreement corresponding to higher diversity and variability. This considers only the argmax of a model's predictions, which makes it a limited but interpretable.\n",
        "This metric has also been used recently to compare similarity in the context of network ensembles (Fort et al., 2019).*"
      ]
    },
    {
      "cell_type": "code",
      "execution_count": null,
      "metadata": {
        "id": "cUEV-EnIpmj5"
      },
      "outputs": [],
      "source": [
        "def pairwise_diagreement(models:list[ResNet]) -> float:\n",
        "    \"\"\"\n",
        "    Args:\n",
        "        models: list of models\n",
        "\n",
        "    Returns:\n",
        "        float: average pairwise disagreement between each pair of models\n",
        "    \"\"\"\n",
        "\n",
        "    # return pairwise_diagreement\n",
        "    pass"
      ]
    },
    {
      "cell_type": "markdown",
      "metadata": {
        "id": "XnHkNtITPj5C"
      },
      "source": [
        "### Recreating the table results from the paper"
      ]
    },
    {
      "cell_type": "code",
      "execution_count": null,
      "metadata": {
        "id": "1JcmVw-xPj5C"
      },
      "outputs": [],
      "source": [
        "from tabulate import tabulate\n",
        "\n",
        "# Run experiments and collect results\n",
        "results = []\n",
        "\n",
        "# Parameter initialisation\n",
        "accuracy_mean, accuracy_std, cross_entropy_mean, cross_entropy_std, pairwise_disagreement = nondeterminism_experiment('param_init')\n",
        "results.append([\"Parameter Initialization\",\n",
        "                f\"{accuracy_mean:.2f} ± {accuracy_std:.2f}\",\n",
        "                f\"{cross_entropy_mean:.4f} ± {cross_entropy_std:.4f}\",\n",
        "                f\"{pairwise_disagreement:.1f}\"])\n",
        "\n",
        "# Data shuffling\n",
        "accuracy_mean, accuracy_std, cross_entropy_mean, cross_entropy_std, pairwise_disagreement = nondeterminism_experiment('data_shuffle')\n",
        "results.append([\"Data Shuffling\",\n",
        "                f\"{accuracy_mean:.2f} ± {accuracy_std:.2f}\",\n",
        "                f\"{cross_entropy_mean:.4f} ± {cross_entropy_std:.4f}\",\n",
        "                f\"{pairwise_disagreement:.1f}\"])\n",
        "\n",
        "# Data augmentation\n",
        "accuracy_mean, accuracy_std, cross_entropy_mean, cross_entropy_std, pairwise_disagreement = nondeterminism_experiment('data_augmentation')\n",
        "results.append([\"Data Augmentation\",\n",
        "                f\"{accuracy_mean:.2f} ± {accuracy_std:.2f}\",\n",
        "                f\"{cross_entropy_mean:.4f} ± {cross_entropy_std:.4f}\",\n",
        "                f\"{pairwise_disagreement:.1f}\"])\n",
        "\n",
        "# cuDNN\n",
        "accuracy_mean, accuracy_std, cross_entropy_mean, cross_entropy_std, pairwise_disagreement = nondeterminism_experiment('cuDNN')\n",
        "results.append([\"cuDNN\",\n",
        "                f\"{accuracy_mean:.2f} ± {accuracy_std:.2f}\",\n",
        "                f\"{cross_entropy_mean:.4f} ± {cross_entropy_std:.4f}\",\n",
        "                f\"{pairwise_disagreement:.1f}\"])\n",
        "\n",
        "# Data shuffling + cuDNN\n",
        "accuracy_mean, accuracy_std, cross_entropy_mean, cross_entropy_std, pairwise_disagreement = nondeterminism_experiment('data_shuffle', 'cuDNN')\n",
        "results.append([\"Data Shuffling + cuDNN\",\n",
        "                f\"{accuracy_mean:.2f} ± {accuracy_std:.2f}\",\n",
        "                f\"{cross_entropy_mean:.4f} ± {cross_entropy_std:.4f}\",\n",
        "                f\"{pairwise_disagreement:.1f}\"])\n",
        "\n",
        "# Data shuffling + data augmentation + cuDNN\n",
        "accuracy_mean, accuracy_std, cross_entropy_mean, cross_entropy_std, pairwise_disagreement = nondeterminism_experiment('data_shuffle', 'data_augmentation', 'cuDNN')\n",
        "results.append([\"Data Shuffling + Aug. + cuDNN\",\n",
        "                f\"{accuracy_mean:.2f} ± {accuracy_std:.2f}\",\n",
        "                f\"{cross_entropy_mean:.4f} ± {cross_entropy_std:.4f}\",\n",
        "                f\"{pairwise_disagreement:.1f}\"])\n",
        "\n",
        "# Parameter initialisation + data shuffling + data augmentation + cuDNN\n",
        "accuracy_mean, accuracy_std, cross_entropy_mean, cross_entropy_std, pairwise_disagreement = nondeterminism_experiment('param_init', 'data_shuffle', 'data_augmentation', 'cuDNN')\n",
        "results.append([\"All Nondeterminism Sources\",\n",
        "                f\"{accuracy_mean:.2f} ± {accuracy_std:.2f}\",\n",
        "                f\"{cross_entropy_mean:.4f} ± {cross_entropy_std:.4f}\",\n",
        "                f\"{pairwise_disagreement:.1f}\"])\n",
        "\n",
        "# Print the table\n",
        "headers = [\"Nondeterminism Source\", \"Accuracy SD (%)\", \"Cross-Entropy SD\", \"Pairwise Disagree (%)\"]\n",
        "print(tabulate(results, headers=headers, tablefmt=\"grid\"))"
      ]
    },
    {
      "cell_type": "markdown",
      "metadata": {
        "id": "_R7F1YiWPj5C"
      },
      "source": [
        "### Recreating the single parameter change experiment"
      ]
    },
    {
      "cell_type": "code",
      "execution_count": null,
      "metadata": {
        "id": "EbcWEq8MPj5C"
      },
      "outputs": [],
      "source": [
        "# Run experiments and collect results\n",
        "results = []\n",
        "\n",
        "# Single parameter initialisation\n",
        "accuracy_mean, accuracy_std, cross_entropy_mean, cross_entropy_std, pairwise_disagreement = nondeterminism_experiment('single_param_init')\n",
        "results.append([\"Single Parameter Initialization\",\n",
        "                f\"{accuracy_mean:.2f} ± {accuracy_std:.2f}\",\n",
        "                f\"{cross_entropy_mean:.4f} ± {cross_entropy_std:.4f}\",\n",
        "                f\"{pairwise_disagreement:.1f}\"])\n",
        "\n",
        "# Print the table\n",
        "headers = [\"Nondeterminism Source\", \"Accuracy SD (%)\", \"Cross-Entropy SD\", \"Pairwise Disagree (%)\"]\n",
        "print(tabulate(results, headers=headers, tablefmt=\"grid\"))"
      ]
    },
    {
      "cell_type": "markdown",
      "metadata": {
        "id": "1zztwq-NPj5C"
      },
      "source": [
        "## Additional Work\n",
        "\n",
        "If time permits, we will:\n",
        "\n",
        "1. **Discuss the Implications of Non-determinism**: Explore how non-determinism affects neural network training, reproducibility, and explainability.\n",
        "2. **Investigate Additional Sources of Non-determinism**: Examine other factors, such as stochastic regularization, or experiment with different combinations of known sources."
      ]
    },
    {
      "cell_type": "markdown",
      "metadata": {
        "id": "wyCEN2ttPj5D"
      },
      "source": [
        "### Stochastic Regularisation\n",
        "\n",
        "*\"Some types of regularization, such as Dropout (Srivastava et al., 2014), take the form of stochastic operations internal to a model during training. Other instances of this include DropConnect (Wan et al., 2013) and variable length backpropagation through time (Merity et al., 2017), among many others.\"*"
      ]
    },
    {
      "cell_type": "code",
      "execution_count": null,
      "metadata": {
        "id": "Spi5OxR6Pj5D"
      },
      "outputs": [],
      "source": [
        "def stochastic_operations():\n",
        "    pass"
      ]
    }
  ],
  "metadata": {
    "colab": {
      "provenance": [],
      "gpuType": "T4",
      "include_colab_link": true
    },
    "kernelspec": {
      "display_name": "Python 3",
      "name": "python3"
    },
    "language_info": {
      "codemirror_mode": {
        "name": "ipython",
        "version": 3
      },
      "file_extension": ".py",
      "mimetype": "text/x-python",
      "name": "python",
      "nbconvert_exporter": "python",
      "pygments_lexer": "ipython3",
      "version": "3.12.4"
    },
    "accelerator": "GPU"
  },
  "nbformat": 4,
  "nbformat_minor": 0
}